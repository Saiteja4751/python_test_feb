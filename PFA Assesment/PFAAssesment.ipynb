{
 "cells": [
  {
   "cell_type": "code",
   "execution_count": 297,
   "id": "8643acc0-01d9-4159-bd8f-154060b66759",
   "metadata": {},
   "outputs": [],
   "source": [
    "import pandas as pd"
   ]
  },
  {
   "cell_type": "code",
   "execution_count": 299,
   "id": "a71159df-e9d4-4789-88cd-7c7075d9105c",
   "metadata": {},
   "outputs": [
    {
     "name": "stdout",
     "output_type": "stream",
     "text": [
      "ERR001\n"
     ]
    }
   ],
   "source": [
    "try:\n",
    "    sensor_data = pd.read_csv(\"sensor_data.csv\")\n",
    "    thresholds = pd.read_csv(\"thresholds.csv\")\n",
    "except FileNotFoundError:\n",
    "    print(\"ERR001\")"
   ]
  },
  {
   "cell_type": "code",
   "execution_count": 301,
   "id": "b127f5d8-2caa-444a-ab7d-d795a2148693",
   "metadata": {},
   "outputs": [],
   "source": [
    "if 'month' in sensor_data.columns:\n",
    "    sensor_data = sensor_data.drop(columns=['month'])"
   ]
  },
  {
   "cell_type": "code",
   "execution_count": 303,
   "id": "69cdd00d-638d-4a9e-9acd-6fbe625b4971",
   "metadata": {},
   "outputs": [],
   "source": [
    "try:\n",
    "    min_values = sensor_data.groupby('sensor_type')['value'].min().reset_index()\n",
    "    max_values = sensor_data.groupby('sensor_type')['value'].max().reset_index()\n",
    "    avg_values = sensor_data.groupby('sensor_type')['value'].mean().reset_index()\n",
    "except KeyError:\n",
    "    print(\"ERR002\")\n"
   ]
  },
  {
   "cell_type": "code",
   "execution_count": 305,
   "id": "dd0c98e7-4446-4266-9a4c-0f8d4ce9bee8",
   "metadata": {},
   "outputs": [],
   "source": [
    "summary_df = min_values.rename(columns={'value': 'min_value'})\n",
    "summary_df['max_value'] = max_values['value']\n",
    "summary_df['avg_value'] = avg_values['value']\n",
    "summary_df['value']= sensor_data['value']\n",
    "\n",
    "summary_df\n",
    "summary_df.to_csv(\"monthly_stats.csv\", index=False)"
   ]
  },
  {
   "cell_type": "code",
   "execution_count": 307,
   "id": "369a79ea-d6ac-4d9a-8023-4ecaad0d881d",
   "metadata": {},
   "outputs": [
    {
     "name": "stdout",
     "output_type": "stream",
     "text": [
      "ERR001\n"
     ]
    }
   ],
   "source": [
    "try:\n",
    "    thresholds_df = pd.read_csv(\"thresholds.csv\")\n",
    "    monthly_stats_df = pd.read_csv(\"monthly_stats.csv\")\n",
    "except FileNotFoundError:\n",
    "    print(\"ERR001\")"
   ]
  },
  {
   "cell_type": "code",
   "execution_count": 309,
   "id": "b917d2ce-8532-4ab9-846e-b29de7256936",
   "metadata": {},
   "outputs": [],
   "source": [
    "\n",
    "outlier_rows = []\n",
    "for index, row in merged_df.iterrows():\n",
    "    if row[\"value\"] < row[\"min_threshold\"] or row[\"value\"] > row[\"max_threshold\"]:\n",
    "        outlier_rows.append(row)\n",
    "outliers = pd.DataFrame(outlier_rows)\n"
   ]
  },
  {
   "cell_type": "code",
   "execution_count": 311,
   "id": "a55049d6-020e-472b-a6d6-72d75152106e",
   "metadata": {},
   "outputs": [],
   "source": [
    "threshold_exceeded = []\n",
    "for index, row in outliers.iterrows():\n",
    "    if row[\"value\"] < row[\"min_threshold\"]:\n",
    "        threshold_exceeded.append(\"Min\")\n",
    "    else:\n",
    "        threshold_exceeded.append(\"Max\")\n",
    "\n",
    "outliers[\"threshold_exceeded\"] = threshold_exceeded"
   ]
  },
  {
   "cell_type": "code",
   "execution_count": 313,
   "id": "72183292-7bf0-40ec-b05c-0b0aaa7d304d",
   "metadata": {},
   "outputs": [],
   "source": [
    "expected_columns = [\"date\", \"sensor_type\", \"value\", \"unit\", \"location_id\", \"threshold_exceeded\"]\n",
    "available_columns = [col for col in expected_columns if col in outliers.columns]"
   ]
  },
  {
   "cell_type": "code",
   "execution_count": 315,
   "id": "b67c1e74-1e13-4bd1-b322-18a69e776f03",
   "metadata": {},
   "outputs": [],
   "source": [
    "outliers[available_columns].to_csv(\"outliers.csv\", index=False)"
   ]
  },
  {
   "cell_type": "code",
   "execution_count": null,
   "id": "c2ef426a-955e-4b63-9cbe-d9e0bf785c08",
   "metadata": {},
   "outputs": [],
   "source": []
  },
  {
   "cell_type": "code",
   "execution_count": null,
   "id": "1a6c2ae2-4cbc-44e0-b552-37469098bda8",
   "metadata": {},
   "outputs": [],
   "source": []
  }
 ],
 "metadata": {
  "kernelspec": {
   "display_name": "Python 3 (ipykernel)",
   "language": "python",
   "name": "python3"
  },
  "language_info": {
   "codemirror_mode": {
    "name": "ipython",
    "version": 3
   },
   "file_extension": ".py",
   "mimetype": "text/x-python",
   "name": "python",
   "nbconvert_exporter": "python",
   "pygments_lexer": "ipython3",
   "version": "3.12.4"
  }
 },
 "nbformat": 4,
 "nbformat_minor": 5
}
